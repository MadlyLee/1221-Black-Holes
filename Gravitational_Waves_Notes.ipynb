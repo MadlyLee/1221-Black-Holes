{
  "nbformat": 4,
  "nbformat_minor": 0,
  "metadata": {
    "colab": {
      "provenance": []
    },
    "kernelspec": {
      "name": "python3",
      "display_name": "Python 3"
    },
    "language_info": {
      "name": "python"
    }
  },
  "cells": [
    {
      "cell_type": "code",
      "execution_count": null,
      "metadata": {
        "id": "TLXLnmQytzBv"
      },
      "outputs": [],
      "source": [
        "Nobel Prize won in 2017 for discovery of gravitational waves.\n",
        "\n",
        "What are gravitational waves?\n",
        "  Issac Newton views space as static, following Euclidian rules.\n",
        "  Einstein believed that space is curved and changable. It can shrink and expand. Space can have moving \"ripples\" called gravitational waves.\n",
        "\n",
        "Black holes have the strongest gravity... suppose you make two black holes, remnants of binary stars. They eventually lose orbital momentum.\n",
        "They will eventually stop spinning, giving away energy, until they merge... when the orbital separation becomes twice the radius of the black hole.\n",
        "V = sqrt(GM/2r) = c (speed of light) -> r = 3.0 km\n",
        "\n",
        "As the black holes orbit, they send out gravitational waves into space.\n",
        "How do we test whether gravitational waves exist?\n",
        "\n",
        "Ordinary tides stretch the Earth in the direction of the Moon, squeeze it in the perpendicular directions (low and high tides).\n",
        "Radius of Earth: 6000 km\n",
        "Earth is going to stretch 10^-15 m (phentometer) and squeeze.\n",
        "Laser Interfermeter Gravitational-wave Observatory (LIGO)\n",
        "A gratitational waves changes that distance by one part of 10^21\n",
        "How can you measure such a small change?\n",
        "Lasers. Laser light is cohere: all waves have the same wavelength and the same phase.\n",
        "Laser light is sent down both arms of LIGO, reflected from mirrors at the ends, and brought together by a \"beam splitter.\"\n",
        "Sends in opposite phases to be null... but very slightly different due to gravitational waves. You will get a weak, detetable differences.\n",
        "Compresses and contracts.\n",
        "\n",
        "It also records minor tremors, truck... how can you find and pick out the signal from this noise?\n",
        "We have two! Simultaneous detection. Look for signals seen at both locations.\n",
        "Also, look for characteristic shapes from the signal of two black holes. As the gravitational waves escape, they carry away energy. As a result, the black holes spiral in toward each other, orbiting fast and faster.\n",
        "\n",
        "Keppler Law: p^2/a^3 = 4pi^2/GM\n",
        "a = 30 m\n",
        "M = 30 + 30 solar m\n",
        "w = 2pi/p = 100 Hz\n",
        "p = 2pi/p\n",
        "c-note = 523 Hz\n",
        "\n",
        "The insward spiral and merger of 2 black holes\n",
        "One was 29 times the Sun's mass\n",
        "the Other was 36 times the Sun's mass\n",
        "The merged black hole is 62 times the Sun's mass\n",
        "The missing mass was converted into energy... 5% carried off by gravitational waves.\n",
        "\n",
        "The Sun convers less than one percent of its mass to energy over 10 billion years\n",
        "\n",
        "The black holes converted three times the Sun's mass to energy in 200 miliseconds.\n",
        "And yet, it caused only a minuscule twitch in the LIGO appartus. The merger was about 1.6 billion light years.\n",
        "\n"
      ]
    }
  ]
}