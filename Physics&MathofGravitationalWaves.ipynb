{
  "nbformat": 4,
  "nbformat_minor": 0,
  "metadata": {
    "colab": {
      "provenance": []
    },
    "kernelspec": {
      "name": "python3",
      "display_name": "Python 3"
    },
    "language_info": {
      "name": "python"
    }
  },
  "cells": [
    {
      "cell_type": "code",
      "execution_count": null,
      "metadata": {
        "colab": {
          "base_uri": "https://localhost:8080/",
          "height": 163
        },
        "id": "E8xSZsbCfO0w",
        "outputId": "279c757b-8045-4d81-982c-ced2c3b2f846"
      },
      "outputs": [
        {
          "output_type": "error",
          "ename": "SyntaxError",
          "evalue": "ignored",
          "traceback": [
            "\u001b[0;36m  File \u001b[0;32m\"<ipython-input-3-24de96ec8c80>\"\u001b[0;36m, line \u001b[0;32m1\u001b[0m\n\u001b[0;31m    Print (\"What is the waveform of two black holes merging? Waves that  increase expontentionally in amplitutde and then go back.\u001b[0m\n\u001b[0m           ^\u001b[0m\n\u001b[0;31mSyntaxError\u001b[0m\u001b[0;31m:\u001b[0m unterminated string literal (detected at line 1)\n"
          ]
        }
      ],
      "source": [
        "What is the waveform of two black holes merging? Waves that  increase expontentionally in amplitutde and then go back.\n",
        "The frequency is about 1/100 Hz = 0.01 s.\n",
        "Distance between two black holes orbiting one another = 2(radius of black hole)\n",
        "Change in time = orbital period = distance/velocity = 2piR(bh)/V(orb)\n",
        "V(orb)= sqrt(GM/R)\n",
        "2piR/sqrt(GMRT)=t\n",
        "t = 0.01s\n",
        "R = 2(radius of black hole)\n",
        "What is the radius of a black hole?\n",
        "It is a singularity, but it does have a boundary. We can use orbital velocity.\n",
        "Velocity is the speed of light.\n",
        "So, R(bh) = GM/c^2 --> R(bh) = 2GM/c^2\n",
        "\n",
        "What is the event horizon solar mass?\n"
      ]
    },
    {
      "cell_type": "code",
      "source": [
        "import numpy as np\n",
        "import astropy.units as u\n",
        "import astropy.constants as ac\n",
        "\n",
        "M_bh = 1 * u.solMass\n",
        "R_bh = 2 * ac.G * M_bh / ac.c**2\n",
        "print (\"The radius of a solar-mass black hole is \", R_bh.to(u.km))"
      ],
      "metadata": {
        "colab": {
          "base_uri": "https://localhost:8080/"
        },
        "id": "EY_uxWWbjvDt",
        "outputId": "fcea8a66-1866-4bfd-fec2-3ef9bc8012a8"
      },
      "execution_count": null,
      "outputs": [
        {
          "output_type": "stream",
          "name": "stdout",
          "text": [
            "The radius of a solar-mass black hole is  2.95325007610025 km\n"
          ]
        }
      ]
    },
    {
      "cell_type": "markdown",
      "source": [
        "r = 2 R_bh\n",
        "r = 4 GM/c^2\n",
        "delta T = 2pir/sqrt(GM/r)\n",
        "delta T = (2pi4GM/c^2)/(c/2)\n",
        "delta T = 16piGM/c^3\n",
        "M = (delta T)c^3/(16piG)"
      ],
      "metadata": {
        "id": "rk1cLcDjkrc0"
      }
    },
    {
      "cell_type": "code",
      "source": [
        "delta_t = 0.01 * u.second\n",
        "M_bh_total = (delta_t * ac.c**3)/(16 * np.pi * ac.G)\n",
        "[print (\"The total mass of two merging black holes is \", M_bh.total(u.solMass))]"
      ],
      "metadata": {
        "colab": {
          "base_uri": "https://localhost:8080/",
          "height": 343
        },
        "id": "NyiJXFick9lZ",
        "outputId": "caa3c26f-bba5-497b-c16d-0d1e1b226a62"
      },
      "execution_count": null,
      "outputs": [
        {
          "output_type": "error",
          "ename": "AttributeError",
          "evalue": "ignored",
          "traceback": [
            "\u001b[0;31m---------------------------------------------------------------------------\u001b[0m",
            "\u001b[0;31mAttributeError\u001b[0m                            Traceback (most recent call last)",
            "\u001b[0;32m<ipython-input-22-44b354ebbc29>\u001b[0m in \u001b[0;36m<cell line: 3>\u001b[0;34m()\u001b[0m\n\u001b[1;32m      1\u001b[0m \u001b[0mdelta_t\u001b[0m \u001b[0;34m=\u001b[0m \u001b[0;36m0.01\u001b[0m \u001b[0;34m*\u001b[0m \u001b[0mu\u001b[0m\u001b[0;34m.\u001b[0m\u001b[0msecond\u001b[0m\u001b[0;34m\u001b[0m\u001b[0;34m\u001b[0m\u001b[0m\n\u001b[1;32m      2\u001b[0m \u001b[0mM_bh_total\u001b[0m \u001b[0;34m=\u001b[0m \u001b[0;34m(\u001b[0m\u001b[0mdelta_t\u001b[0m \u001b[0;34m*\u001b[0m \u001b[0mac\u001b[0m\u001b[0;34m.\u001b[0m\u001b[0mc\u001b[0m\u001b[0;34m**\u001b[0m\u001b[0;36m3\u001b[0m\u001b[0;34m)\u001b[0m\u001b[0;34m/\u001b[0m\u001b[0;34m(\u001b[0m\u001b[0;36m16\u001b[0m \u001b[0;34m*\u001b[0m \u001b[0mnp\u001b[0m\u001b[0;34m.\u001b[0m\u001b[0mpi\u001b[0m \u001b[0;34m*\u001b[0m \u001b[0mac\u001b[0m\u001b[0;34m.\u001b[0m\u001b[0mG\u001b[0m\u001b[0;34m)\u001b[0m\u001b[0;34m\u001b[0m\u001b[0;34m\u001b[0m\u001b[0m\n\u001b[0;32m----> 3\u001b[0;31m \u001b[0;34m[\u001b[0m\u001b[0mprint\u001b[0m \u001b[0;34m(\u001b[0m\u001b[0;34m\"The total mass of two merging black holes is \"\u001b[0m\u001b[0;34m,\u001b[0m \u001b[0mM_bh\u001b[0m\u001b[0;34m.\u001b[0m\u001b[0mtotal\u001b[0m\u001b[0;34m(\u001b[0m\u001b[0mu\u001b[0m\u001b[0;34m.\u001b[0m\u001b[0msolMass\u001b[0m\u001b[0;34m)\u001b[0m\u001b[0;34m)\u001b[0m\u001b[0;34m]\u001b[0m\u001b[0;34m\u001b[0m\u001b[0;34m\u001b[0m\u001b[0m\n\u001b[0m",
            "\u001b[0;32m/usr/local/lib/python3.10/dist-packages/astropy/units/quantity.py\u001b[0m in \u001b[0;36m__getattr__\u001b[0;34m(self, attr)\u001b[0m\n\u001b[1;32m   1101\u001b[0m         \"\"\"\n\u001b[1;32m   1102\u001b[0m         \u001b[0;32mif\u001b[0m \u001b[0;32mnot\u001b[0m \u001b[0mself\u001b[0m\u001b[0;34m.\u001b[0m\u001b[0m_include_easy_conversion_members\u001b[0m\u001b[0;34m:\u001b[0m\u001b[0;34m\u001b[0m\u001b[0;34m\u001b[0m\u001b[0m\n\u001b[0;32m-> 1103\u001b[0;31m             raise AttributeError(\n\u001b[0m\u001b[1;32m   1104\u001b[0m                 \u001b[0;34mf\"'{self.__class__.__name__}' object has no '{attr}' member\"\u001b[0m\u001b[0;34m\u001b[0m\u001b[0;34m\u001b[0m\u001b[0m\n\u001b[1;32m   1105\u001b[0m             )\n",
            "\u001b[0;31mAttributeError\u001b[0m: 'Quantity' object has no 'total' member"
          ]
        }
      ]
    },
    {
      "cell_type": "code",
      "source": [
        "h = 1e-21\n",
        "delta_Earth = 1 * u.earthRad * h\n",
        "print(\"The deformation of Earth is \"), delta_Earth.to(u.m)\n"
      ],
      "metadata": {
        "colab": {
          "base_uri": "https://localhost:8080/"
        },
        "id": "0tch7JdKoEvM",
        "outputId": "2cd8d6a8-9942-419d-903e-8e599560ef2a"
      },
      "execution_count": null,
      "outputs": [
        {
          "output_type": "stream",
          "name": "stdout",
          "text": [
            "The deformation of Earth is \n"
          ]
        },
        {
          "output_type": "execute_result",
          "data": {
            "text/plain": [
              "(None, <Quantity 6.3781e-15 m>)"
            ]
          },
          "metadata": {},
          "execution_count": 19
        }
      ]
    },
    {
      "cell_type": "markdown",
      "source": [
        "h = R_bh / distance, so distance - R_bh / h"
      ],
      "metadata": {
        "id": "dTLi-LwIpcor"
      }
    },
    {
      "cell_type": "code",
      "source": [
        "R_bh = 2 * ac.G * 30 * u.solMass / (ac.c**2)\n",
        "D = R_bh / h\n",
        "print (\"The distance of the black hole merger is \", D.to(1e6 * u.parsec))"
      ],
      "metadata": {
        "colab": {
          "base_uri": "https://localhost:8080/"
        },
        "id": "z_AHuwJgpp0v",
        "outputId": "9fd85f64-dd49-4c41-98f8-c216b8c0caed"
      },
      "execution_count": null,
      "outputs": [
        {
          "output_type": "stream",
          "name": "stdout",
          "text": [
            "The distance of the black hole merger is  2871.249504952705 1e+06 pc\n"
          ]
        }
      ]
    }
  ]
}